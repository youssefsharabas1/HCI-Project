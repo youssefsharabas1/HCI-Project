{
 "cells": [
  {
   "cell_type": "code",
   "execution_count": 1,
   "id": "b5cbb3bb",
   "metadata": {},
   "outputs": [
    {
     "name": "stdout",
     "output_type": "stream",
     "text": [
      "Server is listening on port 12345...\n"
     ]
    }
   ],
   "source": [
    "import threading\n",
    "import cv2\n",
    "import mediapipe as mp\n",
    "import socket\n",
    "import json\n",
    "\n",
    "# Define a flag to control when to run the extraction function\n",
    "run_extraction = False\n",
    "\n",
    "# Function to extract wrist coordinates using MediaPipe\n",
    "def extract_wrist_coordinates(client_socket):\n",
    "    mp_drawing = mp.solutions.drawing_utils\n",
    "    mp_hands = mp.solutions.hands\n",
    "\n",
    "    cap = cv2.VideoCapture(1)\n",
    "    hands = mp_hands.Hands()\n",
    "\n",
    "    while run_extraction:\n",
    "        try:\n",
    "            ret, frame = cap.read()\n",
    "            if not ret:\n",
    "                break\n",
    "\n",
    "            frame = cv2.flip(frame, 1)\n",
    "            rgb_frame = cv2.cvtColor(frame, cv2.COLOR_BGR2RGB)\n",
    "            results = hands.process(rgb_frame)\n",
    "\n",
    "            if results.multi_hand_landmarks:\n",
    "                for landmarks in results.multi_hand_landmarks:\n",
    "                    wrist_landmark = landmarks.landmark[mp_hands.HandLandmark.WRIST]\n",
    "                    wrist_coords = {'x': wrist_landmark.x, 'y': wrist_landmark.y, 'z': wrist_landmark.z}\n",
    "                    print(wrist_coords)\n",
    "                    json_coords = json.dumps(wrist_coords)\n",
    "                    client_socket.send((json_coords+ '\\n').encode())\n",
    "\n",
    "            cv2.imshow('MediaPipe Hands', frame)\n",
    "            if cv2.waitKey(1) == 27:\n",
    "                break\n",
    "        except Exception as e:\n",
    "            print(\"Error:\", e)\n",
    "            break\n",
    "\n",
    "    # Release the camera and close OpenCV windows when done\n",
    "    cap.release()\n",
    "    cv2.destroyAllWindows()\n",
    "\n",
    "# Function to start the server socket\n",
    "def server_socket():\n",
    "    server = socket.socket(socket.AF_INET, socket.SOCK_STREAM)\n",
    "    server.bind(('localhost', 12345))\n",
    "    server.listen(1)\n",
    "    print(\"Server is listening on port 12345...\")\n",
    "\n",
    "    while True:\n",
    "        client_socket, addr = server.accept()\n",
    "        print(f\"Connection from {addr[0]}:{addr[1]}\")\n",
    "        \n",
    "        global run_extraction  # Use the global flag\n",
    "        \n",
    "        # Set the flag to True when the connection is open\n",
    "        run_extraction = True\n",
    "\n",
    "        # Start the hand thread after the client connects\n",
    "        hand_thread = threading.Thread(target=extract_wrist_coordinates, args=(client_socket,))\n",
    "        hand_thread.start()\n",
    "\n",
    "        # Wait for the hand_thread to finish (connection terminated)\n",
    "        hand_thread.join()\n",
    "\n",
    "        # Reset the flag to False when the connection is terminated\n",
    "        run_extraction = False\n",
    "\n",
    "# Create and start the socket thread\n",
    "socket_thread = threading.Thread(target=server_socket)\n",
    "socket_thread.start()\n",
    "\n",
    "socket_thread.join()\n"
   ]
  },
  {
   "cell_type": "code",
   "execution_count": null,
   "id": "38ffc9f5",
   "metadata": {},
   "outputs": [],
   "source": [
    "import socket\n",
    "\n",
    "def close_socket_by_port(port):\n",
    "    try:\n",
    "        # Create a socket and connect to the localhost on the specified port\n",
    "        client_socket = socket.socket(socket.AF_INET, socket.SOCK_STREAM)\n",
    "        client_socket.connect(('localhost', port))\n",
    "\n",
    "        # Close the socket connection\n",
    "        client_socket.close()\n",
    "        print(f\"Socket connection on port {port} closed successfully.\")\n",
    "    except ConnectionRefusedError:\n",
    "        print(f\"No socket connection found on port {port}.\")\n",
    "\n",
    "# Example usage:\n",
    "# Close a socket connection on port 12345\n",
    "close_socket_by_port(12345)\n"
   ]
  },
  {
   "cell_type": "code",
   "execution_count": null,
   "id": "905ed069",
   "metadata": {},
   "outputs": [],
   "source": []
  },
  {
   "cell_type": "code",
   "execution_count": null,
   "id": "5e99b123",
   "metadata": {},
   "outputs": [],
   "source": []
  },
  {
   "cell_type": "code",
   "execution_count": null,
   "id": "8f5bd221",
   "metadata": {},
   "outputs": [],
   "source": []
  }
 ],
 "metadata": {
  "kernelspec": {
   "display_name": "Python 3",
   "language": "python",
   "name": "python3"
  },
  "language_info": {
   "codemirror_mode": {
    "name": "ipython",
    "version": 3
   },
   "file_extension": ".py",
   "mimetype": "text/x-python",
   "name": "python",
   "nbconvert_exporter": "python",
   "pygments_lexer": "ipython3",
   "version": "3.7.8"
  }
 },
 "nbformat": 4,
 "nbformat_minor": 5
}
